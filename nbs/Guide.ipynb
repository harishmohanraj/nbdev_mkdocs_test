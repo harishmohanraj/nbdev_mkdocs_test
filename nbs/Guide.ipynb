{
 "cells": [
  {
   "cell_type": "markdown",
   "id": "6dfeff56",
   "metadata": {},
   "source": [
    "This is a guide. Please visit `HelloSayer`"
   ]
  },
  {
   "cell_type": "markdown",
   "id": "71c91e05",
   "metadata": {},
   "source": [
    "This is a guide. Please visit `HelloSayer.__init__`"
   ]
  },
  {
   "cell_type": "markdown",
   "id": "79f7a14a",
   "metadata": {},
   "source": [
    "This is a guide. Please visit `HelloSayer.class_method`\n",
    "\n",
    "This is a guide. Please visit `HelloSayer.instance_method`\n",
    "\n",
    "This is a guide. Please visit `HelloSayer.static_method`"
   ]
  },
  {
   "cell_type": "markdown",
   "id": "99122f8d",
   "metadata": {},
   "source": [
    "This is a guide. Please visit `foo`"
   ]
  },
  {
   "cell_type": "code",
   "execution_count": null,
   "id": "6d454f73",
   "metadata": {},
   "outputs": [],
   "source": []
  }
 ],
 "metadata": {
  "kernelspec": {
   "display_name": "python3",
   "language": "python",
   "name": "python3"
  }
 },
 "nbformat": 4,
 "nbformat_minor": 5
}
