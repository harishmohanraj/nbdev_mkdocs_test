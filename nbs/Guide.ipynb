{
 "cells": [
  {
   "cell_type": "markdown",
   "id": "16933ac0",
   "metadata": {},
   "source": [
    "This is a guide. Please visit `core.foo`"
   ]
  },
  {
   "cell_type": "markdown",
   "id": "79f7a14a",
   "metadata": {},
   "source": [
    "This is a guide. Please visit `HelloSayer.say`"
   ]
  },
  {
   "cell_type": "markdown",
   "id": "6dfeff56",
   "metadata": {},
   "source": [
    "This is a guide. Please visit `HelloSayer`"
   ]
  },
  {
   "cell_type": "markdown",
   "id": "71c91e05",
   "metadata": {},
   "source": [
    "This is a guide. Please visit `HelloSayer.__init__`"
   ]
  },
  {
   "cell_type": "markdown",
   "id": "99122f8d",
   "metadata": {},
   "source": [
    "This is a guide. Please visit `foo`"
   ]
  }
 ],
 "metadata": {
  "kernelspec": {
   "display_name": "python3",
   "language": "python",
   "name": "python3"
  }
 },
 "nbformat": 4,
 "nbformat_minor": 5
}
